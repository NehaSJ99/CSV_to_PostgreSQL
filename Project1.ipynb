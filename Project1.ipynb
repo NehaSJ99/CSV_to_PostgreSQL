{
 "cells": [
  {
   "cell_type": "code",
   "execution_count": 1,
   "id": "4ab457be-8e67-4962-bfd1-b624e904ecd9",
   "metadata": {
    "scrolled": true
   },
   "outputs": [],
   "source": [
    "import pandas as pd\n",
    "import psycopg2"
   ]
  },
  {
   "cell_type": "code",
   "execution_count": 2,
   "id": "aaa5a54f-aa65-435c-ae23-39db3b8396ae",
   "metadata": {},
   "outputs": [],
   "source": [
    "course_df = pd.read_csv('coursera_course_dataset.csv')"
   ]
  },
  {
   "cell_type": "code",
   "execution_count": 3,
   "id": "e09a993d-5e7e-4763-9e10-2c2f8790a53c",
   "metadata": {},
   "outputs": [
    {
     "data": {
      "text/html": [
       "<div>\n",
       "<style scoped>\n",
       "    .dataframe tbody tr th:only-of-type {\n",
       "        vertical-align: middle;\n",
       "    }\n",
       "\n",
       "    .dataframe tbody tr th {\n",
       "        vertical-align: top;\n",
       "    }\n",
       "\n",
       "    .dataframe thead th {\n",
       "        text-align: right;\n",
       "    }\n",
       "</style>\n",
       "<table border=\"1\" class=\"dataframe\">\n",
       "  <thead>\n",
       "    <tr style=\"text-align: right;\">\n",
       "      <th></th>\n",
       "      <th>Unnamed: 0</th>\n",
       "      <th>Title</th>\n",
       "      <th>Organization</th>\n",
       "      <th>Skills</th>\n",
       "      <th>Ratings</th>\n",
       "      <th>Review counts</th>\n",
       "      <th>Metadata</th>\n",
       "    </tr>\n",
       "  </thead>\n",
       "  <tbody>\n",
       "    <tr>\n",
       "      <th>0</th>\n",
       "      <td>0</td>\n",
       "      <td>Google Cybersecurity</td>\n",
       "      <td>Google</td>\n",
       "      <td>Network Security, Python Programming, Linux, ...</td>\n",
       "      <td>4.8</td>\n",
       "      <td>4.8(20K reviews)</td>\n",
       "      <td>Beginner · Professional Certificate · 3 - 6 Mo...</td>\n",
       "    </tr>\n",
       "    <tr>\n",
       "      <th>1</th>\n",
       "      <td>1</td>\n",
       "      <td>Google Data Analytics</td>\n",
       "      <td>Google</td>\n",
       "      <td>Data Analysis, R Programming, SQL, Business C...</td>\n",
       "      <td>4.8</td>\n",
       "      <td>4.8(137K reviews)</td>\n",
       "      <td>Beginner · Professional Certificate · 3 - 6 Mo...</td>\n",
       "    </tr>\n",
       "    <tr>\n",
       "      <th>2</th>\n",
       "      <td>2</td>\n",
       "      <td>Google Project Management:</td>\n",
       "      <td>Google</td>\n",
       "      <td>Project Management, Strategy and Operations, ...</td>\n",
       "      <td>4.8</td>\n",
       "      <td>4.8(100K reviews)</td>\n",
       "      <td>Beginner · Professional Certificate · 3 - 6 Mo...</td>\n",
       "    </tr>\n",
       "    <tr>\n",
       "      <th>3</th>\n",
       "      <td>3</td>\n",
       "      <td>IBM Data Science</td>\n",
       "      <td>IBM</td>\n",
       "      <td>Python Programming, Data Science, Machine Lea...</td>\n",
       "      <td>4.6</td>\n",
       "      <td>4.6(120K reviews)</td>\n",
       "      <td>Beginner · Professional Certificate · 3 - 6 Mo...</td>\n",
       "    </tr>\n",
       "    <tr>\n",
       "      <th>4</th>\n",
       "      <td>4</td>\n",
       "      <td>Google Digital Marketing &amp; E-commerce</td>\n",
       "      <td>Google</td>\n",
       "      <td>Digital Marketing, Marketing, Marketing Manag...</td>\n",
       "      <td>4.8</td>\n",
       "      <td>4.8(23K reviews)</td>\n",
       "      <td>Beginner · Professional Certificate · 3 - 6 Mo...</td>\n",
       "    </tr>\n",
       "  </tbody>\n",
       "</table>\n",
       "</div>"
      ],
      "text/plain": [
       "   Unnamed: 0                                  Title Organization  \\\n",
       "0           0                   Google Cybersecurity       Google   \n",
       "1           1                  Google Data Analytics       Google   \n",
       "2           2             Google Project Management:       Google   \n",
       "3           3                       IBM Data Science          IBM   \n",
       "4           4  Google Digital Marketing & E-commerce       Google   \n",
       "\n",
       "                                              Skills  Ratings  \\\n",
       "0   Network Security, Python Programming, Linux, ...      4.8   \n",
       "1   Data Analysis, R Programming, SQL, Business C...      4.8   \n",
       "2   Project Management, Strategy and Operations, ...      4.8   \n",
       "3   Python Programming, Data Science, Machine Lea...      4.6   \n",
       "4   Digital Marketing, Marketing, Marketing Manag...      4.8   \n",
       "\n",
       "       Review counts                                           Metadata  \n",
       "0   4.8(20K reviews)  Beginner · Professional Certificate · 3 - 6 Mo...  \n",
       "1  4.8(137K reviews)  Beginner · Professional Certificate · 3 - 6 Mo...  \n",
       "2  4.8(100K reviews)  Beginner · Professional Certificate · 3 - 6 Mo...  \n",
       "3  4.6(120K reviews)  Beginner · Professional Certificate · 3 - 6 Mo...  \n",
       "4   4.8(23K reviews)  Beginner · Professional Certificate · 3 - 6 Mo...  "
      ]
     },
     "execution_count": 3,
     "metadata": {},
     "output_type": "execute_result"
    }
   ],
   "source": [
    "course_df.head()"
   ]
  },
  {
   "cell_type": "code",
   "execution_count": 4,
   "id": "149a3770-de57-4a4f-a0e7-ab2a8ec922fd",
   "metadata": {},
   "outputs": [
    {
     "data": {
      "text/plain": [
       "(984, 7)"
      ]
     },
     "execution_count": 4,
     "metadata": {},
     "output_type": "execute_result"
    }
   ],
   "source": [
    "course_df.shape"
   ]
  },
  {
   "cell_type": "code",
   "execution_count": 5,
   "id": "c444fd89-5e09-4fd3-8c4e-037a5c5f0673",
   "metadata": {},
   "outputs": [],
   "source": [
    "course_df = course_df.drop('Unnamed: 0',axis=1)"
   ]
  },
  {
   "cell_type": "code",
   "execution_count": 6,
   "id": "f5638d11-9f39-464b-ac6d-0d43b61bbfed",
   "metadata": {},
   "outputs": [
    {
     "data": {
      "text/html": [
       "<div>\n",
       "<style scoped>\n",
       "    .dataframe tbody tr th:only-of-type {\n",
       "        vertical-align: middle;\n",
       "    }\n",
       "\n",
       "    .dataframe tbody tr th {\n",
       "        vertical-align: top;\n",
       "    }\n",
       "\n",
       "    .dataframe thead th {\n",
       "        text-align: right;\n",
       "    }\n",
       "</style>\n",
       "<table border=\"1\" class=\"dataframe\">\n",
       "  <thead>\n",
       "    <tr style=\"text-align: right;\">\n",
       "      <th></th>\n",
       "      <th>Title</th>\n",
       "      <th>Organization</th>\n",
       "      <th>Skills</th>\n",
       "      <th>Ratings</th>\n",
       "      <th>Review counts</th>\n",
       "      <th>Metadata</th>\n",
       "    </tr>\n",
       "  </thead>\n",
       "  <tbody>\n",
       "    <tr>\n",
       "      <th>0</th>\n",
       "      <td>Google Cybersecurity</td>\n",
       "      <td>Google</td>\n",
       "      <td>Network Security, Python Programming, Linux, ...</td>\n",
       "      <td>4.8</td>\n",
       "      <td>4.8(20K reviews)</td>\n",
       "      <td>Beginner · Professional Certificate · 3 - 6 Mo...</td>\n",
       "    </tr>\n",
       "    <tr>\n",
       "      <th>1</th>\n",
       "      <td>Google Data Analytics</td>\n",
       "      <td>Google</td>\n",
       "      <td>Data Analysis, R Programming, SQL, Business C...</td>\n",
       "      <td>4.8</td>\n",
       "      <td>4.8(137K reviews)</td>\n",
       "      <td>Beginner · Professional Certificate · 3 - 6 Mo...</td>\n",
       "    </tr>\n",
       "    <tr>\n",
       "      <th>2</th>\n",
       "      <td>Google Project Management:</td>\n",
       "      <td>Google</td>\n",
       "      <td>Project Management, Strategy and Operations, ...</td>\n",
       "      <td>4.8</td>\n",
       "      <td>4.8(100K reviews)</td>\n",
       "      <td>Beginner · Professional Certificate · 3 - 6 Mo...</td>\n",
       "    </tr>\n",
       "    <tr>\n",
       "      <th>3</th>\n",
       "      <td>IBM Data Science</td>\n",
       "      <td>IBM</td>\n",
       "      <td>Python Programming, Data Science, Machine Lea...</td>\n",
       "      <td>4.6</td>\n",
       "      <td>4.6(120K reviews)</td>\n",
       "      <td>Beginner · Professional Certificate · 3 - 6 Mo...</td>\n",
       "    </tr>\n",
       "    <tr>\n",
       "      <th>4</th>\n",
       "      <td>Google Digital Marketing &amp; E-commerce</td>\n",
       "      <td>Google</td>\n",
       "      <td>Digital Marketing, Marketing, Marketing Manag...</td>\n",
       "      <td>4.8</td>\n",
       "      <td>4.8(23K reviews)</td>\n",
       "      <td>Beginner · Professional Certificate · 3 - 6 Mo...</td>\n",
       "    </tr>\n",
       "  </tbody>\n",
       "</table>\n",
       "</div>"
      ],
      "text/plain": [
       "                                   Title Organization  \\\n",
       "0                   Google Cybersecurity       Google   \n",
       "1                  Google Data Analytics       Google   \n",
       "2             Google Project Management:       Google   \n",
       "3                       IBM Data Science          IBM   \n",
       "4  Google Digital Marketing & E-commerce       Google   \n",
       "\n",
       "                                              Skills  Ratings  \\\n",
       "0   Network Security, Python Programming, Linux, ...      4.8   \n",
       "1   Data Analysis, R Programming, SQL, Business C...      4.8   \n",
       "2   Project Management, Strategy and Operations, ...      4.8   \n",
       "3   Python Programming, Data Science, Machine Lea...      4.6   \n",
       "4   Digital Marketing, Marketing, Marketing Manag...      4.8   \n",
       "\n",
       "       Review counts                                           Metadata  \n",
       "0   4.8(20K reviews)  Beginner · Professional Certificate · 3 - 6 Mo...  \n",
       "1  4.8(137K reviews)  Beginner · Professional Certificate · 3 - 6 Mo...  \n",
       "2  4.8(100K reviews)  Beginner · Professional Certificate · 3 - 6 Mo...  \n",
       "3  4.6(120K reviews)  Beginner · Professional Certificate · 3 - 6 Mo...  \n",
       "4   4.8(23K reviews)  Beginner · Professional Certificate · 3 - 6 Mo...  "
      ]
     },
     "execution_count": 6,
     "metadata": {},
     "output_type": "execute_result"
    }
   ],
   "source": [
    "course_df.head()"
   ]
  },
  {
   "cell_type": "code",
   "execution_count": 7,
   "id": "6ab1ec99-b932-4ab3-b37b-3eaca12f2f12",
   "metadata": {},
   "outputs": [
    {
     "data": {
      "text/plain": [
       "Index(['Title', 'Organization', 'Skills', 'Ratings', 'Review counts',\n",
       "       'Metadata'],\n",
       "      dtype='object')"
      ]
     },
     "execution_count": 7,
     "metadata": {},
     "output_type": "execute_result"
    }
   ],
   "source": [
    "course_df.columns"
   ]
  },
  {
   "cell_type": "code",
   "execution_count": 8,
   "id": "038720cb-e3bb-4945-9fd0-bf0a5b059798",
   "metadata": {},
   "outputs": [
    {
     "name": "stdout",
     "output_type": "stream",
     "text": [
      "('PostgreSQL 16.1, compiled by Visual C++ build 1937, 64-bit',)\n",
      "Connection to postgres Succesfull!!\n"
     ]
    }
   ],
   "source": [
    "# Replace the placeholders with your actual database information\n",
    "dbname = 'postgres'\n",
    "user = 'postgres'\n",
    "password = '1234'\n",
    "host = 'localhost'\n",
    "port = '5432'\n",
    "\n",
    "try:\n",
    "    # Establish a connection to the PostgreSQL database\n",
    "    conn = psycopg2.connect(dbname=dbname, user=user, password=password, host=host, port=port)\n",
    "    \n",
    "    # Create a cursor object to execute SQL queries\n",
    "    cur = conn.cursor()\n",
    "    \n",
    "    # Now you can execute SQL queries using the 'cur' cursor\n",
    "    \n",
    "    # Example: Execute a simple query\n",
    "    cur.execute(\"SELECT version();\")\n",
    "    print(cur.fetchone())\n",
    "    print(\"Connection to postgres Succesfull!!\")\n",
    "    \n",
    "except Exception as ex:\n",
    "    print(f\"Error: {ex}\")\n",
    "    \n",
    "finally:\n",
    "    # Close the cursor and connection when done\n",
    "    cur.close()\n",
    "    conn.close()\n"
   ]
  },
  {
   "cell_type": "code",
   "execution_count": 9,
   "id": "7c6c0c46-f5dc-4704-bc5e-5b52369485ff",
   "metadata": {},
   "outputs": [
    {
     "name": "stdout",
     "output_type": "stream",
     "text": [
      "Error: database \"coursera\" already exists\n",
      "\n"
     ]
    }
   ],
   "source": [
    "def create_database(dbname, user, password, host, port):\n",
    "    try:\n",
    "        # Connect to the default 'postgres' database to execute the CREATE DATABASE command\n",
    "        conn = psycopg2.connect(dbname='postgres', user=user, password=password, host=host, port=port)\n",
    "        conn.autocommit = True  # Set autocommit to True for database creation\n",
    "\n",
    "        # Create a cursor object to execute SQL queries\n",
    "        cur = conn.cursor()\n",
    "\n",
    "        # Execute the CREATE DATABASE command\n",
    "        cur.execute(f\"CREATE DATABASE coursera\")\n",
    "\n",
    "        print(f\"Database coursera created successfully.\")\n",
    "\n",
    "    except Exception as e:\n",
    "        # Handle the exception if the connection cannot be established or database creation fails\n",
    "        print(f\"Error: {e}\")\n",
    "    \n",
    "    finally:\n",
    "        # Close the cursor and connection when done\n",
    "        cur.close()\n",
    "        conn.close()\n",
    "\n",
    "# Replace the placeholder values with your desired database information\n",
    "create_database(dbname, user, password, host, port)\n",
    "\n"
   ]
  },
  {
   "cell_type": "code",
   "execution_count": 17,
   "id": "38a08b41-3b70-46c7-8c3b-aedd69c27c50",
   "metadata": {},
   "outputs": [],
   "source": [
    "def execute_queries(query, user, password, host, port):\n",
    "    try:\n",
    "        # Connect to the default 'postgres' database to execute the CREATE DATABASE command\n",
    "        conn = psycopg2.connect(dbname='coursera', user=user, password=password, host=host, port=port)\n",
    "        conn.autocommit = True  # Set autocommit to True for database creation\n",
    "\n",
    "        # Create a cursor object to execute SQL queries\n",
    "        cur = conn.cursor()\n",
    "\n",
    "        # Execute the CREATE DATABASE command\n",
    "        cur.execute(query)\n",
    "\n",
    "        print(\"Successful!!\")\n",
    "\n",
    "    except Exception as e:\n",
    "        # Handle the exception if the connection cannot be established or database creation fails\n",
    "        print(f\"Error: {e}\")\n",
    "    \n",
    "    finally:\n",
    "        # Close the cursor and connection when done\n",
    "        cur.close()\n",
    "        conn.close()"
   ]
  },
  {
   "cell_type": "code",
   "execution_count": 20,
   "id": "dffa1654-b3ea-47da-b6f8-263921ac82d9",
   "metadata": {},
   "outputs": [
    {
     "name": "stdout",
     "output_type": "stream",
     "text": [
      "Successful!!\n"
     ]
    }
   ],
   "source": [
    "create_table_query = (\"\"\"CREATE TABLE IF NOT EXISTS coursera_courses (Title VARCHAR, OrganizatioN VARCHAR, Skills VARCHAR, Ratings VARCHAR, Review_counts VARCHAR, Metadata VARCHAR)\"\"\")\n",
    "execute_queries(create_table_query, user, password, host, port)"
   ]
  },
  {
   "cell_type": "code",
   "execution_count": 19,
   "id": "e7870b2a-46d1-478c-af81-815fe4460c5b",
   "metadata": {},
   "outputs": [
    {
     "name": "stdout",
     "output_type": "stream",
     "text": [
      "Successful!!\n"
     ]
    }
   ],
   "source": [
    "drop_table_query = (\"\"\"DROP TABLE IF EXISTS coursera_courses\"\"\")\n",
    "execute_queries(drop_table_query, user, password, host, port)"
   ]
  },
  {
   "cell_type": "code",
   "execution_count": 26,
   "id": "064f188b-9aa3-4bd0-a1ab-ff2556234619",
   "metadata": {},
   "outputs": [
    {
     "name": "stdout",
     "output_type": "stream",
     "text": [
      "Successful!!\n",
      "None\n"
     ]
    }
   ],
   "source": [
    "select_table_query = (\"SELECT * FROM coursera_courses\")\n",
    "rows = execute_queries(select_table_query, user, password, host, port)\n",
    "print(rows)"
   ]
  },
  {
   "cell_type": "code",
   "execution_count": 22,
   "id": "343ea656-dbf4-453c-9851-904860df13bb",
   "metadata": {},
   "outputs": [],
   "source": [
    "insert_table_query = (\"\"\"\n",
    "            INSERT INTO coursera_courses (Title, Organization, Skills, Ratings, Review_counts, Metadata)\n",
    "            VALUES (%s, %s, %s, %s, %s, %s)\n",
    "        \"\"\")"
   ]
  },
  {
   "cell_type": "code",
   "execution_count": 23,
   "id": "eb98d1fb-6d53-467c-8ab1-156a2bce7226",
   "metadata": {},
   "outputs": [],
   "source": [
    "def insert_into_tables(query, user, password, host, port,course_df):\n",
    "    try:\n",
    "        # Connect to the default 'postgres' database to execute the CREATE DATABASE command\n",
    "        conn = psycopg2.connect(dbname='coursera', user=user, password=password, host=host, port=port)\n",
    "        conn.autocommit = True  # Set autocommit to True for database creation\n",
    "\n",
    "        # Create a cursor object to execute SQL queries\n",
    "        cur = conn.cursor()\n",
    "\n",
    "        # Execute the CREATE DATABASE command\n",
    "        for i, row in course_df.iterrows():\n",
    "            #print(list(row))\n",
    "            cur.execute(insert_table_query,list(row))\n",
    "\n",
    "        print(f\"Data inserted successfully.\")\n",
    "\n",
    "    except Exception as e:\n",
    "        # Handle the exception if the connection cannot be established or database creation fails\n",
    "        print(f\"Error: {e}\")\n",
    "    \n",
    "    finally:\n",
    "        # Close the cursor and connection when done\n",
    "        cur.close()\n",
    "        conn.close()\n"
   ]
  },
  {
   "cell_type": "code",
   "execution_count": 24,
   "id": "8df4dfb6-dc8d-4751-94b0-e67b755e01d5",
   "metadata": {},
   "outputs": [
    {
     "name": "stdout",
     "output_type": "stream",
     "text": [
      "Data inserted successfully.\n"
     ]
    }
   ],
   "source": [
    "insert_into_tables(insert_table_query, user, password, host, port,course_df)"
   ]
  },
  {
   "cell_type": "code",
   "execution_count": null,
   "id": "6ae17491-8ff1-4ad3-94d7-840e2ceb4ba8",
   "metadata": {},
   "outputs": [],
   "source": []
  }
 ],
 "metadata": {
  "kernelspec": {
   "display_name": "Python 3 (ipykernel)",
   "language": "python",
   "name": "python3"
  },
  "language_info": {
   "codemirror_mode": {
    "name": "ipython",
    "version": 3
   },
   "file_extension": ".py",
   "mimetype": "text/x-python",
   "name": "python",
   "nbconvert_exporter": "python",
   "pygments_lexer": "ipython3",
   "version": "3.11.7"
  }
 },
 "nbformat": 4,
 "nbformat_minor": 5
}
